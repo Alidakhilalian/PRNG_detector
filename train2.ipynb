{
 "cells": [
  {
   "cell_type": "code",
   "execution_count": 1,
   "metadata": {},
   "outputs": [],
   "source": [
    "import numpy as np\n",
    "from scipy.fft import fft"
   ]
  },
  {
   "cell_type": "code",
   "execution_count": null,
   "metadata": {},
   "outputs": [],
   "source": [
    "data_x = np.array([])\n",
    "for i in range(1000):\n",
    "    f = open(\"\" + str(i) + \"_rand.txt\", \"r\")\n",
    "    rand = f.read()\n",
    "    f.close()\n",
    "    rand = np.array(list(rand), dtype=int)\n",
    "    rand = fft(rand)\n",
    "    data_x = np.append(data_x, rand, axis=0)\n"
   ]
  },
  {
   "cell_type": "code",
   "execution_count": 3,
   "metadata": {},
   "outputs": [],
   "source": [
    "data_x = data_x.reshape((1000, 200000))"
   ]
  },
  {
   "cell_type": "code",
   "execution_count": 4,
   "metadata": {},
   "outputs": [],
   "source": [
    "data_y = np.array([])\n",
    "\n",
    "for i in range(1000):\n",
    "    f = open(\"dataset/label2/\"+ str(i) +\"_lbl.txt\", \"r\")\n",
    "    lbl = f.read()\n",
    "    f.close()\n",
    "    lbl = int(lbl)\n",
    "    data_y = np.append(data_y, lbl)\n"
   ]
  },
  {
   "cell_type": "code",
   "execution_count": 5,
   "metadata": {},
   "outputs": [],
   "source": [
    "from keras.models import Sequential\n",
    "from keras.layers import Dense"
   ]
  },
  {
   "cell_type": "code",
   "execution_count": null,
   "metadata": {},
   "outputs": [],
   "source": [
    "\n",
    "model = Sequential()\n",
    "model.add(Dense(256, activation=\"relu\", input_dim=200000))\n",
    "model.add(Dense(1, activation=\"sigmoid\"))\n",
    "\n",
    "# Compile the model\n",
    "model.compile(optimizer='adam', loss='binary_crossentropy', metrics=['accuracy'])\n",
    "\n",
    "# Train the model\n",
    "history = model.fit(data_x[:900], data_y[:900], epochs=20, batch_size=20, shuffle=True, validation_split=0.2)\n"
   ]
  },
  {
   "cell_type": "code",
   "execution_count": null,
   "metadata": {},
   "outputs": [],
   "source": [
    "import matplotlib.pyplot as plt\n",
    "\n",
    "#plot the loss and validation loss of the dataset\n",
    "plt.plot(history.history['loss'], label='loss')\n",
    "plt.plot(history.history['val_loss'], label='val_loss')\n",
    "\n",
    "plt.legend()"
   ]
  },
  {
   "cell_type": "code",
   "execution_count": null,
   "metadata": {},
   "outputs": [
    {
     "data": {
      "text/plain": [
       "<matplotlib.legend.Legend at 0x138fd383f10>"
      ]
     },
     "execution_count": 8,
     "metadata": {},
     "output_type": "execute_result"
    },
    {
     "data": {
      "image/png": "[encoded data removed]",
      "text/plain": [
       "<Figure size 432x288 with 1 Axes>"
      ]
     },
     "metadata": {
      "needs_background": "light"
     },
     "output_type": "display_data"
    }
   ],
   "source": [
    "plt.plot(history.history['accuracy'], label='accuracy')\n",
    "plt.plot(history.history['val_accuracy'], label='val_accuracy')\n",
    "\n",
    "plt.legend()"
   ]
  },
  {
   "cell_type": "code",
   "execution_count": 8,
   "metadata": {},
   "outputs": [
    {
     "name": "stdout",
     "output_type": "stream",
     "text": [
      "4/4 [==============================] - 0s 16ms/step - loss: 38.8417 - accuracy: 0.4400\n",
      "Test loss: 38.8416633605957\n",
      "Test accuracy: 0.4399999976158142\n"
     ]
    }
   ],
   "source": [
    "# Evaluate the model on the testing data\n",
    "loss, accuracy = model.evaluate(data_x[900:], data_y[900:])\n",
    "print(f'Test loss: {loss}')\n",
    "print(f'Test accuracy: {accuracy}')"
   ]
  },
  {
   "cell_type": "code",
   "execution_count": 9,
   "metadata": {},
   "outputs": [
    {
     "name": "stdout",
     "output_type": "stream",
     "text": [
      "[0.43182498]\n",
      "[1.]\n",
      "[8.113598e-06]\n",
      "[1.5271786e-11]\n",
      "[4.8193116e-09]\n",
      "[1.]\n",
      "[0.99565375]\n",
      "[0.99999964]\n",
      "[1.]\n",
      "[0.9999963]\n",
      "[0.79195774]\n",
      "[1.]\n",
      "[1.]\n",
      "[8.4749183e-07]\n",
      "[0.99999917]\n",
      "[2.191097e-06]\n",
      "[1.]\n",
      "[1.]\n",
      "[0.02123464]\n",
      "[7.0872743e-09]\n",
      "[0.99995387]\n",
      "[3.6818937e-14]\n",
      "[1.0844325e-07]\n",
      "[0.7547727]\n",
      "[5.297743e-07]\n",
      "[1.]\n",
      "[1.]\n",
      "[1.]\n",
      "[0.04434555]\n",
      "[0.]\n",
      "[0.]\n",
      "[5.2592703e-15]\n",
      "[4.5859647e-07]\n",
      "[0.02685675]\n",
      "[0.0100873]\n",
      "[0.0106179]\n",
      "[7.2601186e-13]\n",
      "[0.00255292]\n",
      "[3.1553046e-07]\n",
      "[4.852867e-17]\n",
      "[1.]\n",
      "[0.07526895]\n",
      "[3.087543e-13]\n",
      "[0.00718735]\n",
      "[1.]\n",
      "[2.9380137e-06]\n",
      "[1.]\n",
      "[0.9965379]\n",
      "[1.]\n",
      "[1.1426752e-17]\n",
      "[0.00022295]\n",
      "[7.7709654e-33]\n",
      "[0.]\n",
      "[1.]\n",
      "[1.360686e-08]\n",
      "[9.770577e-33]\n",
      "[0.6336062]\n",
      "[1.]\n",
      "[1.9966325e-14]\n",
      "[5.7770697e-19]\n",
      "[2.9311146e-29]\n",
      "[1.]\n",
      "[1.]\n",
      "[0.]\n",
      "[1.]\n",
      "[1.]\n",
      "[0.]\n",
      "[0.]\n",
      "[1.]\n",
      "[1.]\n",
      "[0.]\n",
      "[6.184728e-05]\n",
      "[0.]\n",
      "[8.705293e-18]\n",
      "[1.]\n",
      "[0.99999607]\n",
      "[0.]\n",
      "[1.]\n",
      "[0.]\n",
      "[1.]\n",
      "[1.]\n",
      "[0.75299215]\n",
      "[0.00063587]\n",
      "[3.6865656e-37]\n",
      "[4.1189725e-11]\n",
      "[0.99270153]\n",
      "[0.]\n",
      "[1.]\n",
      "[1.]\n",
      "[1.]\n",
      "[0.3156559]\n",
      "[1.]\n",
      "[1.43684e-29]\n",
      "[0.99977916]\n",
      "[0.9999906]\n",
      "[1.]\n",
      "[1.5193116e-14]\n",
      "[4.4335152e-07]\n",
      "[1.]\n",
      "[0.10032424]\n"
     ]
    }
   ],
   "source": [
    "p = model.predict(data_x[900:])\n",
    "\n",
    "for i  in range(100):\n",
    "    print(p[i])"
   ]
  }
 ],
 "metadata": {
  "kernelspec": {
   "display_name": "base",
   "language": "python",
   "name": "python3"
  },
  "language_info": {
   "codemirror_mode": {
    "name": "ipython",
    "version": 3
   },
   "file_extension": ".py",
   "mimetype": "text/x-python",
   "name": "python",
   "nbconvert_exporter": "python",
   "pygments_lexer": "ipython3",
   "version": "3.8.8"
  },
  "orig_nbformat": 4
 },
 "nbformat": 4,
 "nbformat_minor": 2
}
